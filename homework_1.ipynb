{
 "cells": [
  {
   "cell_type": "markdown",
   "id": "7464d64f42ef2930",
   "metadata": {
    "collapsed": false
   },
   "source": [
    "# Importing packages, setting seeds"
   ]
  },
  {
   "cell_type": "code",
   "execution_count": 1,
   "id": "initial_id",
   "metadata": {
    "collapsed": true
   },
   "outputs": [],
   "source": [
    "import torchvision\n",
    "import torch\n",
    "import torchvision.transforms as transforms\n",
    "import torch.nn as nn\n",
    "\n",
    "import matplotlib.pyplot as plt\n",
    "import numpy as np"
   ]
  },
  {
   "cell_type": "code",
   "execution_count": 2,
   "id": "92b4b0f910fd1c56",
   "metadata": {
    "collapsed": false
   },
   "outputs": [
    {
     "data": {
      "text/plain": [
       "device(type='cuda', index=0)"
      ]
     },
     "execution_count": 2,
     "metadata": {},
     "output_type": "execute_result"
    }
   ],
   "source": [
    "device = torch.device('cuda:0' if torch.cuda.is_available() else 'cpu')\n",
    "torch.manual_seed(0)\n",
    "device"
   ]
  },
  {
   "cell_type": "markdown",
   "id": "bd091e194215077d",
   "metadata": {
    "collapsed": false
   },
   "source": [
    "# Loading and normalizing the data"
   ]
  },
  {
   "cell_type": "code",
   "execution_count": 3,
   "id": "56ea023a2d57697",
   "metadata": {
    "collapsed": false
   },
   "outputs": [
    {
     "name": "stdout",
     "output_type": "stream",
     "text": [
      "Files already downloaded and verified\n",
      "Files already downloaded and verified\n"
     ]
    }
   ],
   "source": [
    "transform = transforms.Compose([\n",
    "     transforms.ToTensor(),\n",
    "     transforms.Normalize((0.4914, 0.4822, 0.4465), (0.2112, 0.2086, 0.2121))\n",
    "     ])\n",
    "\n",
    "batch_size = 64\n",
    "\n",
    "train_data = torchvision.datasets.CIFAR10(root=\"train/\", train=True, \n",
    "                                          download=True, transform=transform)\n",
    "# used_data = list(range(0, len(train_data), 10))\n",
    "# train_data = torch.utils.data.Subset(train_data, used_data)\n",
    "train_loader = torch.utils.data.DataLoader(train_data, batch_size=batch_size,\n",
    "                                          shuffle=True)\n",
    "valid_data = torchvision.datasets.CIFAR10(root=\"test/\", train=False, \n",
    "                                          download=True, transform=transform)\n",
    "# used_data = list(range(0, len(valid_data), 2))\n",
    "# valid_data = torch.utils.data.Subset(valid_data, used_data)\n",
    "valid_loader = torch.utils.data.DataLoader(valid_data, batch_size=batch_size,\n",
    "                                          shuffle=True)"
   ]
  },
  {
   "cell_type": "code",
   "execution_count": 4,
   "id": "4a3c866bbf1cce94",
   "metadata": {
    "collapsed": false
   },
   "outputs": [],
   "source": [
    "img = next(iter(train_loader))[0][0]"
   ]
  },
  {
   "cell_type": "code",
   "execution_count": 5,
   "id": "38f51631c527358f",
   "metadata": {
    "collapsed": false
   },
   "outputs": [
    {
     "data": {
      "text/plain": [
       "<matplotlib.image.AxesImage at 0x7fd4b4e5f4d0>"
      ]
     },
     "execution_count": 5,
     "metadata": {},
     "output_type": "execute_result"
    },
    {
     "data": {
      "image/png": "[encoded data removed]",
      "text/plain": [
       "<Figure size 640x480 with 1 Axes>"
      ]
     },
     "metadata": {},
     "output_type": "display_data"
    }
   ],
   "source": [
    "plt.imshow(np.transpose(img / 5 + 0.5, (1, 2, 0)))"
   ]
  },
  {
   "cell_type": "markdown",
   "id": "3a5d3a8ecd06ebdc",
   "metadata": {
    "collapsed": false
   },
   "source": [
    "# Адаптируем архитектуру Resnet34 для изображений 32x32"
   ]
  },
  {
   "cell_type": "code",
   "execution_count": 6,
   "id": "5e34f83daa0f2cd6",
   "metadata": {
    "collapsed": false
   },
   "outputs": [],
   "source": [
    "from resnet import ResNet34, BasicBlock"
   ]
  },
  {
   "cell_type": "code",
   "execution_count": 7,
   "id": "8b83daa8d02dbfe6",
   "metadata": {
    "collapsed": false
   },
   "outputs": [],
   "source": [
    "model = ResNet34(BasicBlock).to(device)"
   ]
  },
  {
   "cell_type": "code",
   "execution_count": 8,
   "id": "2d848b975c56be95",
   "metadata": {
    "collapsed": false
   },
   "outputs": [],
   "source": [
    "loss_fn = nn.CrossEntropyLoss()\n",
    "optimizer = torch.optim.SGD(model.parameters(), lr=0.01, momentum=0.9, weight_decay=0.0001)\n",
    "n_epochs = 10"
   ]
  },
  {
   "cell_type": "code",
   "execution_count": 13,
   "id": "bd2855abd8071432",
   "metadata": {
    "collapsed": false
   },
   "outputs": [],
   "source": [
    "from torch.utils.tensorboard import SummaryWriter\n",
    "from torchmetrics.functional import recall\n",
    "from torchmetrics.functional import precision\n",
    "from torchmetrics.functional import f1_score\n",
    "\n",
    "writer = SummaryWriter(log_dir=\"runs/cifar10_resnet34\")\n",
    "best_loss = float(\"+Inf\")\n",
    "\n",
    "for epoch in range(n_epochs):\n",
    "    train_loss = 0\n",
    "    \n",
    "    model.train()\n",
    "    for train_batch_num, (images, labels) in enumerate(train_loader):\n",
    "        images, labels = images.to(device), labels.to(device)\n",
    "        optimizer.zero_grad()\n",
    "        output = model(images)\n",
    "        loss = loss_fn(output, labels)\n",
    "        loss.backward()\n",
    "        optimizer.step()\n",
    "        \n",
    "        train_loss += loss.item()\n",
    "    writer.add_scalar('loss/train', train_loss / len(train_loader), epoch)\n",
    "    print(\"trained\")\n",
    "\n",
    "    model.eval()\n",
    "    valid_recall, valid_precision, valid_f1_score, valid_loss = 0, 0, 0, 0\n",
    "    \n",
    "    for valid_batch_num, (images, labels) in enumerate(valid_loader):\n",
    "        images, labels = images.to(device), labels.to(device)\n",
    "        output = model(images)\n",
    "        loss = loss_fn(output, labels)\n",
    "        \n",
    "        valid_loss += loss.item()\n",
    "        valid_recall += recall(output, labels, \"multiclass\", num_classes=10, average=\"macro\").item()\n",
    "        valid_precision += precision(output, labels, \"multiclass\", num_classes=10, average=\"macro\").item()\n",
    "        valid_f1_score += f1_score(output, labels, \"multiclass\", num_classes=10, average=\"macro\").item()\n",
    "    \n",
    "    if valid_loss < best_loss:\n",
    "        torch.save(model, \"best_model.pt\")\n",
    "        print(\"saving best model\")\n",
    "        best_loss = valid_loss\n",
    "    \n",
    "    writer.add_scalar('loss/valid', valid_loss / len(valid_loader), epoch)\n",
    "    writer.add_scalar('metrics/recall', valid_recall / len(valid_loader), epoch)\n",
    "    writer.add_scalar('metrics/precision', valid_precision / len(valid_loader), epoch)\n",
    "    writer.add_scalar('metrics/f1_score', valid_f1_score / len(valid_loader), epoch)\n",
    "    \n",
    "\n",
    "writer.flush()"
   ]
  },
  {
   "cell_type": "code",
   "execution_count": 12,
   "id": "ba4383484c56e257",
   "metadata": {
    "collapsed": false
   },
   "outputs": [],
   "source": [
    "detailed_recall = [0] * 10\n",
    "detailed_precision = [0] * 10\n",
    "detailed_f1_score = [0] * 10\n",
    "\n",
    "for valid_batch_num, (images, labels) in enumerate(valid_loader):\n",
    "    images, labels = images.to(device), labels.to(device)\n",
    "    output = model(images)\n",
    "    loss = loss_fn(output, labels)\n",
    "    \n",
    "    new_recall = recall(output, labels, \"multiclass\", num_classes=10, average=None).tolist()\n",
    "    new_precision = precision(output, labels, \"multiclass\", num_classes=10, average=None).tolist()\n",
    "    new_f1_score = f1_score(output, labels, \"multiclass\", num_classes=10, average=None).tolist()\n",
    "    \n",
    "    detailed_recall = [sum(x) for x in zip(detailed_recall, new_recall)]\n",
    "    detailed_precision = [sum(x) for x in zip(detailed_precision, new_precision)]\n",
    "    detailed_f1_score = [sum(x) for x in zip(detailed_f1_score, new_f1_score)]\n",
    "\n",
    "detailed_recall = [el / len(valid_loader) for el in detailed_recall]\n",
    "detailed_precision = [el / len(valid_loader) for el in detailed_precision]\n",
    "detailed_f1_score = [el / len(valid_loader) for el in detailed_f1_score]\n",
    "\n",
    "detailed_recall = {train_data.classes[i]: detailed_recall[i] for i in range(len(detailed_recall))}\n",
    "detailed_precision = {train_data.classes[i]: detailed_precision[i] for i in range(len(detailed_precision))}\n",
    "detailed_f1_score = {train_data.classes[i]: detailed_f1_score[i] for i in range(len(detailed_f1_score))}"
   ]
  },
  {
   "cell_type": "code",
   "execution_count": 14,
   "id": "3cea5ec2bd153175",
   "metadata": {
    "collapsed": false
   },
   "outputs": [],
   "source": [
    "writer = SummaryWriter(log_dir=\"runs/cifar10_resnet34\")\n",
    "\n",
    "for class_name in train_data.classes:\n",
    "    writer.add_scalar(f\"metrics/{class_name}_recall\", detailed_recall[class_name])\n",
    "    writer.add_scalar(f\"metrics/{class_name}_precision\", detailed_precision[class_name])\n",
    "    writer.add_scalar(f\"metrics/{class_name}_f1\", detailed_f1_score[class_name])\n",
    "\n",
    "writer.flush()\n",
    "writer.close()"
   ]
  }
 ],
 "metadata": {
  "kernelspec": {
   "display_name": "Python 3",
   "language": "python",
   "name": "python3"
  },
  "language_info": {
   "codemirror_mode": {
    "name": "ipython",
    "version": 3
   },
   "file_extension": ".py",
   "mimetype": "text/x-python",
   "name": "python",
   "nbconvert_exporter": "python",
   "pygments_lexer": "ipython3",
   "version": "3.11.4"
  }
 },
 "nbformat": 4,
 "nbformat_minor": 5
}
