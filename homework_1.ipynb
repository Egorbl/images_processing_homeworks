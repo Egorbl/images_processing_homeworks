{
 "cells": [
  {
   "cell_type": "markdown",
   "id": "7464d64f42ef2930",
   "metadata": {
    "collapsed": false
   },
   "source": [
    "# Importing packages, setting seeds"
   ]
  },
  {
   "cell_type": "code",
   "execution_count": 1,
   "id": "initial_id",
   "metadata": {
    "collapsed": true,
    "ExecuteTime": {
     "end_time": "2024-01-09T19:12:02.132462206Z",
     "start_time": "2024-01-09T19:11:59.786213044Z"
    }
   },
   "outputs": [],
   "source": [
    "import torchvision\n",
    "import torch\n",
    "import torchvision.transforms as transforms\n",
    "import torch.nn as nn\n",
    "\n",
    "import matplotlib.pyplot as plt\n",
    "import numpy as np"
   ]
  },
  {
   "cell_type": "code",
   "execution_count": 2,
   "id": "92b4b0f910fd1c56",
   "metadata": {
    "collapsed": false,
    "ExecuteTime": {
     "end_time": "2024-01-09T19:12:02.166870944Z",
     "start_time": "2024-01-09T19:12:02.153312256Z"
    }
   },
   "outputs": [
    {
     "data": {
      "text/plain": "device(type='cuda', index=0)"
     },
     "execution_count": 2,
     "metadata": {},
     "output_type": "execute_result"
    }
   ],
   "source": [
    "device = torch.device('cuda:0' if torch.cuda.is_available() else 'cpu')\n",
    "torch.manual_seed(0)\n",
    "device"
   ]
  },
  {
   "cell_type": "markdown",
   "id": "bd091e194215077d",
   "metadata": {
    "collapsed": false
   },
   "source": [
    "# Loading and normalizing the data"
   ]
  },
  {
   "cell_type": "code",
   "execution_count": 30,
   "id": "56ea023a2d57697",
   "metadata": {
    "collapsed": false,
    "ExecuteTime": {
     "end_time": "2024-01-09T19:25:31.832443300Z",
     "start_time": "2024-01-09T19:25:30.381155496Z"
    }
   },
   "outputs": [
    {
     "name": "stdout",
     "output_type": "stream",
     "text": [
      "Files already downloaded and verified\n",
      "Files already downloaded and verified\n"
     ]
    }
   ],
   "source": [
    "transform = transforms.Compose([\n",
    "     transforms.ToTensor(),\n",
    "     transforms.Normalize((0.4914, 0.4822, 0.4465), (0.2112, 0.2086, 0.2121))\n",
    "     ])\n",
    "\n",
    "batch_size = 64\n",
    "\n",
    "train_data = torchvision.datasets.CIFAR10(root=\"train/\", train=True, \n",
    "                                          download=True, transform=transform)\n",
    "# used_data = list(range(0, len(train_data), 10))\n",
    "# train_data = torch.utils.data.Subset(train_data, used_data)\n",
    "train_loader = torch.utils.data.DataLoader(train_data, batch_size=batch_size,\n",
    "                                          shuffle=True)\n",
    "valid_data = torchvision.datasets.CIFAR10(root=\"test/\", train=False, \n",
    "                                          download=True, transform=transform)\n",
    "# used_data = list(range(0, len(valid_data), 2))\n",
    "# valid_data = torch.utils.data.Subset(valid_data, used_data)\n",
    "valid_loader = torch.utils.data.DataLoader(valid_data, batch_size=batch_size,\n",
    "                                          shuffle=True)"
   ]
  },
  {
   "cell_type": "code",
   "outputs": [
    {
     "data": {
      "text/plain": "['airplane',\n 'automobile',\n 'bird',\n 'cat',\n 'deer',\n 'dog',\n 'frog',\n 'horse',\n 'ship',\n 'truck']"
     },
     "execution_count": 14,
     "metadata": {},
     "output_type": "execute_result"
    }
   ],
   "source": [
    "train_data.classes"
   ],
   "metadata": {
    "collapsed": false,
    "ExecuteTime": {
     "end_time": "2024-01-09T05:39:00.646169753Z",
     "start_time": "2024-01-09T05:39:00.633535173Z"
    }
   },
   "id": "47861a35d8a85960",
   "execution_count": 14
  },
  {
   "cell_type": "code",
   "execution_count": 13,
   "id": "4a3c866bbf1cce94",
   "metadata": {
    "collapsed": false,
    "ExecuteTime": {
     "end_time": "2024-01-09T05:38:51.384187800Z",
     "start_time": "2024-01-09T05:38:51.356636277Z"
    }
   },
   "outputs": [],
   "source": [
    "img = next(iter(train_loader))[0][0]"
   ]
  },
  {
   "cell_type": "code",
   "execution_count": 7,
   "id": "38f51631c527358f",
   "metadata": {
    "collapsed": false,
    "ExecuteTime": {
     "end_time": "2024-01-09T05:24:45.153494988Z",
     "start_time": "2024-01-09T05:24:45.032167426Z"
    }
   },
   "outputs": [
    {
     "data": {
      "text/plain": "<matplotlib.image.AxesImage at 0x7f046e361150>"
     },
     "execution_count": 7,
     "metadata": {},
     "output_type": "execute_result"
    },
    {
     "data": {
      "text/plain": "<Figure size 640x480 with 1 Axes>",
      "image/png": "[encoded data removed]"
     },
     "metadata": {},
     "output_type": "display_data"
    }
   ],
   "source": [
    "plt.imshow(np.transpose(img / 5 + 0.5, (1, 2, 0)))"
   ]
  },
  {
   "cell_type": "markdown",
   "id": "3a5d3a8ecd06ebdc",
   "metadata": {
    "collapsed": false
   },
   "source": [
    "# Адаптируем архитектуру Resnet34 для изображений 32x32"
   ]
  },
  {
   "cell_type": "code",
   "execution_count": 8,
   "id": "5e34f83daa0f2cd6",
   "metadata": {
    "collapsed": false,
    "ExecuteTime": {
     "end_time": "2024-01-09T05:24:47.039135543Z",
     "start_time": "2024-01-09T05:24:47.026715328Z"
    }
   },
   "outputs": [],
   "source": [
    "from resnet import ResNet34, BasicBlock"
   ]
  },
  {
   "cell_type": "code",
   "execution_count": 9,
   "id": "8b83daa8d02dbfe6",
   "metadata": {
    "collapsed": false,
    "ExecuteTime": {
     "end_time": "2024-01-09T05:24:48.481677145Z",
     "start_time": "2024-01-09T05:24:48.282663138Z"
    }
   },
   "outputs": [],
   "source": [
    "model = ResNet34(BasicBlock).to(device)"
   ]
  },
  {
   "cell_type": "code",
   "execution_count": 8,
   "id": "2d848b975c56be95",
   "metadata": {
    "collapsed": false
   },
   "outputs": [],
   "source": [
    "loss_fn = nn.CrossEntropyLoss()\n",
    "optimizer = torch.optim.SGD(model.parameters(), lr=0.01, momentum=0.9, weight_decay=0.0001)\n",
    "n_epochs = 10"
   ]
  },
  {
   "cell_type": "code",
   "execution_count": 13,
   "id": "bd2855abd8071432",
   "metadata": {
    "collapsed": false
   },
   "outputs": [],
   "source": [
    "from torch.utils.tensorboard import SummaryWriter\n",
    "from torchmetrics.functional import recall\n",
    "from torchmetrics.functional import precision\n",
    "from torchmetrics.functional import f1_score\n",
    "\n",
    "writer = SummaryWriter(log_dir=\"runs/cifar10_resnet34\")\n",
    "best_loss = float(\"+Inf\")\n",
    "\n",
    "for epoch in range(n_epochs):\n",
    "    train_loss = 0\n",
    "    \n",
    "    model.train()\n",
    "    for train_batch_num, (images, labels) in enumerate(train_loader):\n",
    "        images, labels = images.to(device), labels.to(device)\n",
    "        optimizer.zero_grad()\n",
    "        output = model(images)\n",
    "        loss = loss_fn(output, labels)\n",
    "        loss.backward()\n",
    "        optimizer.step()\n",
    "        \n",
    "        train_loss += loss.item()\n",
    "    writer.add_scalar('loss/train', train_loss / len(train_loader), epoch)\n",
    "    print(\"trained\")\n",
    "\n",
    "    model.eval()\n",
    "    valid_recall, valid_precision, valid_f1_score, valid_loss = 0, 0, 0, 0\n",
    "    \n",
    "    for valid_batch_num, (images, labels) in enumerate(valid_loader):\n",
    "        images, labels = images.to(device), labels.to(device)\n",
    "        output = model(images)\n",
    "        loss = loss_fn(output, labels)\n",
    "        \n",
    "        valid_loss += loss.item()\n",
    "        valid_recall += recall(output, labels, \"multiclass\", num_classes=10, average=\"macro\").item()\n",
    "        valid_precision += precision(output, labels, \"multiclass\", num_classes=10, average=\"macro\").item()\n",
    "        valid_f1_score += f1_score(output, labels, \"multiclass\", num_classes=10, average=\"macro\").item()\n",
    "    \n",
    "    if valid_loss < best_loss:\n",
    "        torch.save(model, \"best_model.pt\")\n",
    "        print(\"saving best model\")\n",
    "        best_loss = valid_loss\n",
    "    \n",
    "    writer.add_scalar('loss/valid', valid_loss / len(valid_loader), epoch)\n",
    "    writer.add_scalar('metrics/recall', valid_recall / len(valid_loader), epoch)\n",
    "    writer.add_scalar('metrics/precision', valid_precision / len(valid_loader), epoch)\n",
    "    writer.add_scalar('metrics/f1_score', valid_f1_score / len(valid_loader), epoch)\n",
    "    \n",
    "\n",
    "writer.flush()"
   ]
  },
  {
   "cell_type": "code",
   "execution_count": 12,
   "id": "ba4383484c56e257",
   "metadata": {
    "collapsed": false
   },
   "outputs": [],
   "source": [
    "detailed_recall = [0] * 10\n",
    "detailed_precision = [0] * 10\n",
    "detailed_f1_score = [0] * 10\n",
    "\n",
    "for valid_batch_num, (images, labels) in enumerate(valid_loader):\n",
    "    images, labels = images.to(device), labels.to(device)\n",
    "    output = model(images)\n",
    "    loss = loss_fn(output, labels)\n",
    "    \n",
    "    new_recall = recall(output, labels, \"multiclass\", num_classes=10, average=None).tolist()\n",
    "    new_precision = precision(output, labels, \"multiclass\", num_classes=10, average=None).tolist()\n",
    "    new_f1_score = f1_score(output, labels, \"multiclass\", num_classes=10, average=None).tolist()\n",
    "    \n",
    "    detailed_recall = [sum(x) for x in zip(detailed_recall, new_recall)]\n",
    "    detailed_precision = [sum(x) for x in zip(detailed_precision, new_precision)]\n",
    "    detailed_f1_score = [sum(x) for x in zip(detailed_f1_score, new_f1_score)]\n",
    "\n",
    "detailed_recall = [el / len(valid_loader) for el in detailed_recall]\n",
    "detailed_precision = [el / len(valid_loader) for el in detailed_precision]\n",
    "detailed_f1_score = [el / len(valid_loader) for el in detailed_f1_score]\n",
    "\n",
    "detailed_recall = {train_data.classes[i]: detailed_recall[i] for i in range(len(detailed_recall))}\n",
    "detailed_precision = {train_data.classes[i]: detailed_precision[i] for i in range(len(detailed_precision))}\n",
    "detailed_f1_score = {train_data.classes[i]: detailed_f1_score[i] for i in range(len(detailed_f1_score))}"
   ]
  },
  {
   "cell_type": "code",
   "execution_count": 14,
   "id": "3cea5ec2bd153175",
   "metadata": {
    "collapsed": false
   },
   "outputs": [],
   "source": [
    "writer = SummaryWriter(log_dir=\"runs/cifar10_resnet34\")\n",
    "\n",
    "for class_name in train_data.classes:\n",
    "    writer.add_scalar(f\"metrics/{class_name}_recall\", detailed_recall[class_name])\n",
    "    writer.add_scalar(f\"metrics/{class_name}_precision\", detailed_precision[class_name])\n",
    "    writer.add_scalar(f\"metrics/{class_name}_f1\", detailed_f1_score[class_name])\n",
    "\n",
    "writer.flush()\n",
    "writer.close()"
   ]
  },
  {
   "cell_type": "code",
   "outputs": [],
   "source": [
    "# create figure \n",
    "fig = plt.figure(figsize=(10, 7)) \n",
    "  \n",
    "# setting values to rows and column variables \n",
    "rows = 2\n",
    "columns = 2\n",
    "  \n",
    "# reading images \n",
    "Image1 = cv2.imread('Image1.jpg') \n",
    "Image2 = cv2.imread('Image2.jpg') \n",
    "Image3 = cv2.imread('Image3.jpg') \n",
    "Image4 = cv2.imread('Image4.jpg') \n",
    "  \n",
    "# Adds a subplot at the 1st position \n",
    "fig.add_subplot(rows, columns, 1) \n",
    "  \n",
    "# showing image \n",
    "plt.imshow(Image1) \n",
    "plt.axis('off') \n",
    "plt.title(\"First\") \n",
    "  \n",
    "# Adds a subplot at the 2nd position \n",
    "fig.add_subplot(rows, columns, 2) \n",
    "  \n",
    "# showing image \n",
    "plt.imshow(Image2) \n",
    "plt.axis('off') \n",
    "plt.title(\"Second\") \n",
    "  \n",
    "# Adds a subplot at the 3rd position \n",
    "fig.add_subplot(rows, columns, 3) \n",
    "  \n",
    "# showing image \n",
    "plt.imshow(Image3) \n",
    "plt.axis('off') \n",
    "plt.title(\"Third\") \n",
    "  \n",
    "# Adds a subplot at the 4th position \n",
    "fig.add_subplot(rows, columns, 4) \n",
    "  \n",
    "# showing image \n",
    "plt.imshow(Image4) \n",
    "plt.axis('off') \n",
    "plt.title(\"Fourth\") "
   ],
   "metadata": {
    "collapsed": false
   },
   "id": "8baeded980bdd01c"
  },
  {
   "cell_type": "code",
   "outputs": [
    {
     "data": {
      "text/plain": "<Figure size 1000x700 with 9 Axes>",
      "image/png": "[encoded data removed]"
     },
     "metadata": {},
     "output_type": "display_data"
    }
   ],
   "source": [
    "# create figure \n",
    "fig = plt.figure(figsize=(10, 7)) \n",
    "  \n",
    "# setting values to rows and column variables \n",
    "rows = 3\n",
    "columns = 3\n",
    "valid_batch, labels = next(iter(valid_loader))\n",
    "valid_batch = valid_batch[:9].to(device)\n",
    "labels = labels[:9]\n",
    "preds = model(valid_batch).tolist()\n",
    "\n",
    "for i in range(len(valid_batch)):\n",
    "    fig.add_subplot(rows, columns, i + 1) \n",
    "    img_class = train_data.classes[np.argmax(preds[i])]\n",
    "    img = np.transpose(valid_batch[i].cpu() / 10 + 0.5, (1, 2, 0))\n",
    "    plt.imshow(img)\n",
    "    plt.axis('off') \n",
    "    plt.title(f\"Pred: {img_class}, Real: {train_data.classes[labels[i]]}\") \n"
   ],
   "metadata": {
    "collapsed": false,
    "ExecuteTime": {
     "end_time": "2024-01-09T19:35:31.455753424Z",
     "start_time": "2024-01-09T19:35:30.927699678Z"
    }
   },
   "id": "6d2fbc27e2cfb30f",
   "execution_count": 59
  },
  {
   "cell_type": "code",
   "outputs": [],
   "source": [
    "model = torch.load(\"best_model.pt\").to(device)"
   ],
   "metadata": {
    "collapsed": false,
    "ExecuteTime": {
     "end_time": "2024-01-09T19:20:25.817946483Z",
     "start_time": "2024-01-09T19:20:25.736899209Z"
    }
   },
   "id": "499950eb7a2d9194",
   "execution_count": 12
  },
  {
   "cell_type": "code",
   "outputs": [],
   "source": [
    "img = model(next(iter(valid_loader))[0][0:1].to(device))"
   ],
   "metadata": {
    "collapsed": false,
    "ExecuteTime": {
     "end_time": "2024-01-09T19:20:53.024751582Z",
     "start_time": "2024-01-09T19:20:52.903389057Z"
    }
   },
   "id": "d95f4d2abac1f5a3",
   "execution_count": 15
  },
  {
   "cell_type": "code",
   "outputs": [],
   "source": [
    "preds = model(next(iter(valid_loader))[0][0:1].to(device)).tolist()[0]"
   ],
   "metadata": {
    "collapsed": false,
    "ExecuteTime": {
     "end_time": "2024-01-09T19:21:56.130099772Z",
     "start_time": "2024-01-09T19:21:56.103634956Z"
    }
   },
   "id": "35b15c257713d1cb",
   "execution_count": 20
  },
  {
   "cell_type": "code",
   "outputs": [
    {
     "ename": "AttributeError",
     "evalue": "'ResNet34' object has no attribute 'predict'",
     "output_type": "error",
     "traceback": [
      "\u001B[0;31m---------------------------------------------------------------------------\u001B[0m",
      "\u001B[0;31mAttributeError\u001B[0m                            Traceback (most recent call last)",
      "Cell \u001B[0;32mIn[22], line 1\u001B[0m\n\u001B[0;32m----> 1\u001B[0m \u001B[43mmodel\u001B[49m\u001B[38;5;241;43m.\u001B[39;49m\u001B[43mpredict\u001B[49m\n",
      "File \u001B[0;32m~/programming/images_processing_homeworks/venv/lib/python3.11/site-packages/torch/nn/modules/module.py:1695\u001B[0m, in \u001B[0;36mModule.__getattr__\u001B[0;34m(self, name)\u001B[0m\n\u001B[1;32m   1693\u001B[0m     \u001B[38;5;28;01mif\u001B[39;00m name \u001B[38;5;129;01min\u001B[39;00m modules:\n\u001B[1;32m   1694\u001B[0m         \u001B[38;5;28;01mreturn\u001B[39;00m modules[name]\n\u001B[0;32m-> 1695\u001B[0m \u001B[38;5;28;01mraise\u001B[39;00m \u001B[38;5;167;01mAttributeError\u001B[39;00m(\u001B[38;5;124mf\u001B[39m\u001B[38;5;124m\"\u001B[39m\u001B[38;5;124m'\u001B[39m\u001B[38;5;132;01m{\u001B[39;00m\u001B[38;5;28mtype\u001B[39m(\u001B[38;5;28mself\u001B[39m)\u001B[38;5;241m.\u001B[39m\u001B[38;5;18m__name__\u001B[39m\u001B[38;5;132;01m}\u001B[39;00m\u001B[38;5;124m'\u001B[39m\u001B[38;5;124m object has no attribute \u001B[39m\u001B[38;5;124m'\u001B[39m\u001B[38;5;132;01m{\u001B[39;00mname\u001B[38;5;132;01m}\u001B[39;00m\u001B[38;5;124m'\u001B[39m\u001B[38;5;124m\"\u001B[39m)\n",
      "\u001B[0;31mAttributeError\u001B[0m: 'ResNet34' object has no attribute 'predict'"
     ]
    }
   ],
   "source": [
    "model.predict"
   ],
   "metadata": {
    "collapsed": false,
    "ExecuteTime": {
     "end_time": "2024-01-09T19:22:44.605178606Z",
     "start_time": "2024-01-09T19:22:44.563956856Z"
    }
   },
   "id": "fcc320dbf4c12d02",
   "execution_count": 22
  },
  {
   "cell_type": "code",
   "outputs": [],
   "source": [],
   "metadata": {
    "collapsed": false
   },
   "id": "a376de7f6ab06f17"
  }
 ],
 "metadata": {
  "kernelspec": {
   "display_name": "Python 3",
   "language": "python",
   "name": "python3"
  },
  "language_info": {
   "codemirror_mode": {
    "name": "ipython",
    "version": 3
   },
   "file_extension": ".py",
   "mimetype": "text/x-python",
   "name": "python",
   "nbconvert_exporter": "python",
   "pygments_lexer": "ipython3",
   "version": "3.11.4"
  }
 },
 "nbformat": 4,
 "nbformat_minor": 5
}
