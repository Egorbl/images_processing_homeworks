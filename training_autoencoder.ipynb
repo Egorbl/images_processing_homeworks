{
 "cells": [
  {
   "cell_type": "markdown",
   "id": "eebd8a15245754b0",
   "metadata": {
    "collapsed": false
   },
   "source": [
    "# Importing functions and libs"
   ]
  },
  {
   "cell_type": "code",
   "execution_count": 1,
   "id": "e04228e1afed755c",
   "metadata": {
    "ExecuteTime": {
     "end_time": "2024-01-17T23:50:07.921822121Z",
     "start_time": "2024-01-17T23:50:06.556261739Z"
    },
    "collapsed": false
   },
   "outputs": [],
   "source": [
    "from autoencoder import SimpleDecoder, SimpleEncoder, SimpleConvAutoencoder, ConvolutionalAutoencoder\n",
    "from dataset import ImageDataset, TestDataset\n",
    "import torchvision.transforms as transforms\n",
    "import torch\n",
    "from torch.utils.data import DataLoader, random_split\n",
    "import torch.nn as nn\n",
    "import os\n",
    "import random\n",
    "\n",
    "import numpy as np\n",
    "\n",
    "import matplotlib.pyplot as plt\n",
    "import seaborn as sns"
   ]
  },
  {
   "cell_type": "markdown",
   "id": "dcad191376e5243e",
   "metadata": {
    "collapsed": false
   },
   "source": [
    "# Loading and transforming data"
   ]
  },
  {
   "cell_type": "code",
   "execution_count": 3,
   "id": "f96bfcf794f6c1dc",
   "metadata": {
    "ExecuteTime": {
     "end_time": "2024-01-17T23:34:58.851239392Z",
     "start_time": "2024-01-17T23:34:58.839158325Z"
    },
    "collapsed": false
   },
   "outputs": [],
   "source": [
    "transform = {\n",
    "    \"train\": transforms.Compose([\n",
    "        transforms.Resize((32, 32)),\n",
    "        transforms.RandomHorizontalFlip(),\n",
    "        transforms.RandomVerticalFlip(),\n",
    "        transforms.RandomRotation(5),\n",
    "        transforms.ToTensor(),\n",
    "        transforms.Normalize(mean=0, std=1),\n",
    "     ]),\n",
    "    \"valid\": transforms.Compose([\n",
    "        transforms.Resize((32, 32)),\n",
    "        transforms.ToTensor(),\n",
    "        transforms.Normalize(mean=0, std=1),\n",
    "     ])\n",
    "}\n",
    "\n",
    "root_dir = \"dataset/train\"\n",
    "image_paths = os.listdir(root_dir)\n",
    "random.shuffle(image_paths)\n",
    "\n",
    "images = ImageDataset(root_dir, image_paths, transform=transform[\"train\"])\n",
    "train_images = ImageDataset(root_dir, image_paths[:9000], transform=transform[\"train\"])\n",
    "valid_images = ImageDataset(root_dir, image_paths[9000:], transform=transform[\"valid\"])\n",
    "proliv_images = ImageDataset(\"dataset/proliv\", transform=transform[\"valid\"])\n",
    "\n",
    "batch_size = 64\n",
    "\n",
    "# Create DataLoader\n",
    "images_loader = DataLoader(dataset=images, batch_size=batch_size, shuffle=True)\n",
    "train_loader = DataLoader(dataset=train_images, batch_size=batch_size, shuffle=True)\n",
    "valid_loader = DataLoader(dataset=valid_images, batch_size=batch_size, shuffle=True)\n",
    "proliv_loader = DataLoader(dataset=proliv_images, batch_size=batch_size, shuffle=True)"
   ]
  },
  {
   "cell_type": "markdown",
   "id": "d502002c30c6345c",
   "metadata": {
    "collapsed": false
   },
   "source": [
    "# Training autoencoder"
   ]
  },
  {
   "cell_type": "code",
   "execution_count": 4,
   "id": "d5fa28ff4225aeaf",
   "metadata": {
    "ExecuteTime": {
     "end_time": "2024-01-17T23:34:58.867437609Z",
     "start_time": "2024-01-17T23:34:58.853505931Z"
    },
    "collapsed": false
   },
   "outputs": [],
   "source": [
    "# encoder = SimpleEncoder()\n",
    "# decoder = SimpleDecoder()\n",
    "# model = SimpleConvAutoencoder(encoder, decoder)\n",
    "\n",
    "model = ConvolutionalAutoencoder()"
   ]
  },
  {
   "cell_type": "code",
   "execution_count": 5,
   "id": "141d95caf58bd432",
   "metadata": {
    "ExecuteTime": {
     "end_time": "2024-01-17T23:34:58.868035842Z",
     "start_time": "2024-01-17T23:34:58.859782212Z"
    },
    "collapsed": false
   },
   "outputs": [],
   "source": [
    "optimizer = torch.optim.AdamW(model.parameters(), lr=0.0003)\n",
    "loss_fcn = nn.MSELoss()"
   ]
  },
  {
   "cell_type": "code",
   "execution_count": 6,
   "id": "65c4d148f97e79bf",
   "metadata": {
    "ExecuteTime": {
     "end_time": "2024-01-17T23:35:29.154864502Z",
     "start_time": "2024-01-17T23:34:59.448217930Z"
    },
    "collapsed": false
   },
   "outputs": [
    {
     "name": "stdout",
     "output_type": "stream",
     "text": [
      "Epoch 0\n",
      "Updated!\n",
      "Validation Loss: 0.007655895460629836\n",
      "Epoch 1\n",
      "Updated!\n",
      "Validation Loss: 0.002331165538635105\n",
      "Epoch 2\n",
      "Updated!\n",
      "Validation Loss: 0.001300146061112173\n",
      "Epoch 3\n",
      "Updated!\n",
      "Validation Loss: 0.0009077143149625044\n",
      "Epoch 4\n",
      "Updated!\n",
      "Validation Loss: 0.0007082663396431599\n",
      "Epoch 5\n",
      "Updated!\n",
      "Validation Loss: 0.0005932564308750443\n",
      "Epoch 6\n",
      "Updated!\n",
      "Validation Loss: 0.000519242061272962\n",
      "Epoch 7\n",
      "Updated!\n",
      "Validation Loss: 0.00046516625116055366\n",
      "Epoch 8\n",
      "Updated!\n",
      "Validation Loss: 0.0004264681447239127\n",
      "Epoch 9\n",
      "Updated!\n",
      "Validation Loss: 0.0003820379097305704\n",
      "Epoch 10\n",
      "Updated!\n",
      "Validation Loss: 0.0003776521461986704\n",
      "Epoch 11\n",
      "Updated!\n",
      "Validation Loss: 0.0003339846352901077\n",
      "Epoch 12\n",
      "Updated!\n",
      "Validation Loss: 0.00030692342625116\n",
      "Epoch 13\n",
      "Updated!\n",
      "Validation Loss: 0.00029932479628769215\n",
      "Epoch 14\n",
      "Updated!\n",
      "Validation Loss: 0.00027971697454631794\n",
      "Epoch 15\n",
      "Updated!\n",
      "Validation Loss: 0.0002540766799938865\n",
      "Epoch 16\n",
      "Validation Loss: 0.0002625089473440312\n",
      "Epoch 17\n",
      "Updated!\n",
      "Validation Loss: 0.00024324897458427586\n",
      "Epoch 18\n",
      "Updated!\n",
      "Validation Loss: 0.00022899138821230736\n",
      "Epoch 19\n",
      "Updated!\n",
      "Validation Loss: 0.00020784495700354455\n",
      "Epoch 20\n",
      "Validation Loss: 0.00021680001646018354\n",
      "Epoch 21\n",
      "Updated!\n",
      "Validation Loss: 0.00019042283020098694\n",
      "Epoch 22\n",
      "Updated!\n",
      "Validation Loss: 0.00018672042369871633\n",
      "Epoch 23\n",
      "Updated!\n",
      "Validation Loss: 0.0001746574898788822\n",
      "Epoch 24\n",
      "Updated!\n",
      "Validation Loss: 0.00017255897273571463\n",
      "Epoch 25\n",
      "Validation Loss: 0.00018422038465359947\n",
      "Epoch 26\n",
      "Validation Loss: 0.0001935627242346527\n",
      "Epoch 27\n",
      "Updated!\n",
      "Validation Loss: 0.00015271456686605234\n",
      "Epoch 28\n",
      "Validation Loss: 0.0001544315828141407\n",
      "Epoch 29\n",
      "Validation Loss: 0.00017982483223022427\n",
      "Epoch 30\n",
      "Updated!\n",
      "Validation Loss: 0.0001495910000812728\n",
      "Epoch 31\n",
      "Updated!\n",
      "Validation Loss: 0.0001347962652289425\n",
      "Epoch 32\n",
      "Validation Loss: 0.00014104401088843588\n",
      "Epoch 33\n",
      "Validation Loss: 0.00015482203070860123\n",
      "Epoch 34\n",
      "Updated!\n",
      "Validation Loss: 0.00013452196071739309\n",
      "Epoch 35\n",
      "Updated!\n",
      "Validation Loss: 0.00012403667142280028\n",
      "Epoch 36\n",
      "Validation Loss: 0.0001310902116529178\n",
      "Epoch 37\n",
      "Validation Loss: 0.0001591649333931855\n",
      "Epoch 38\n",
      "Validation Loss: 0.00012805046117136953\n",
      "Epoch 39\n",
      "Updated!\n",
      "Validation Loss: 0.00011520818861754378\n",
      "Epoch 40\n",
      "Updated!\n",
      "Validation Loss: 0.00011485707636893494\n",
      "Epoch 41\n",
      "Validation Loss: 0.00012740550528178574\n",
      "Epoch 42\n",
      "Validation Loss: 0.00012340885041339789\n",
      "Epoch 43\n",
      "Updated!\n",
      "Validation Loss: 0.00010852455761778401\n",
      "Epoch 44\n",
      "Validation Loss: 0.00012355479429970728\n",
      "Epoch 45\n",
      "Validation Loss: 0.00011788244455601671\n",
      "Epoch 46\n",
      "Validation Loss: 0.00011027402979379985\n",
      "Epoch 47\n",
      "Validation Loss: 0.00014764198294869857\n",
      "Epoch 48\n",
      "Updated!\n",
      "Validation Loss: 9.885142389975954e-05\n",
      "Epoch 49\n",
      "Validation Loss: 0.00010767150888568722\n",
      "Epoch 50\n",
      "Validation Loss: 0.0001242466159965261\n",
      "Epoch 51\n",
      "Validation Loss: 0.00020585989386745496\n",
      "Epoch 52\n",
      "Validation Loss: 0.00011051769615733065\n",
      "Epoch 53\n",
      "Updated!\n",
      "Validation Loss: 9.139097028310061e-05\n",
      "Epoch 54\n",
      "Validation Loss: 9.626076280255802e-05\n",
      "Epoch 55\n",
      "Validation Loss: 0.00013140491410013055\n",
      "Epoch 56\n",
      "Validation Loss: 0.00012138356805735384\n",
      "Epoch 57\n",
      "Validation Loss: 0.00010193882553721778\n",
      "Epoch 58\n",
      "Validation Loss: 9.386193005411769e-05\n",
      "Epoch 59\n",
      "Validation Loss: 0.00011825859974123887\n"
     ]
    }
   ],
   "source": [
    "best_valid_loss = float(\"+Inf\")\n",
    "best_epoch_num = None\n",
    "validation_losses = []\n",
    "train_losses = []\n",
    "\n",
    "for epoch in range(60):\n",
    "    print(f\"Epoch {epoch}\")\n",
    "    model.train()\n",
    "    train_loss = 0\n",
    "    \n",
    "    for images in train_loader:\n",
    "        outputs = model(images)\n",
    "        loss = loss_fcn(outputs, images)\n",
    "        optimizer.zero_grad()\n",
    "        loss.backward()\n",
    "        optimizer.step()\n",
    "        train_loss += loss.item()\n",
    "        \n",
    "    train_loss = train_loss / len(train_loader)\n",
    "    model.eval()\n",
    "    valid_loss = 0\n",
    "    \n",
    "    for images in valid_loader:\n",
    "        outputs = model(images)\n",
    "        loss = loss_fcn(outputs, images)\n",
    "        valid_loss += loss.item()\n",
    "    \n",
    "    valid_loss = valid_loss / len(valid_loader)\n",
    "    train_losses.append(train_loss)\n",
    "    validation_losses.append(valid_loss)\n",
    "    \n",
    "    if valid_loss < best_valid_loss:\n",
    "        torch.save(model, \"best_model.pt\")\n",
    "        best_valid_loss = valid_loss\n",
    "        best_epoch_num = epoch + 1\n",
    "        print(\"Updated!\")\n",
    "    \n",
    "    print(f\"Validation Loss: {valid_loss}\")\n",
    "    "
   ]
  },
  {
   "cell_type": "code",
   "execution_count": 7,
   "id": "d45e9d5a8219d925",
   "metadata": {
    "ExecuteTime": {
     "end_time": "2024-01-17T23:35:54.162847350Z",
     "start_time": "2024-01-17T23:35:53.955850992Z"
    },
    "collapsed": false
   },
   "outputs": [
    {
     "data": {
      "text/plain": [
       "<matplotlib.legend.Legend at 0x7f870d254a90>"
      ]
     },
     "execution_count": 7,
     "metadata": {},
     "output_type": "execute_result"
    },
    {
     "data": {
      "image/png": "[encoded data removed]",
      "text/plain": [
       "<Figure size 640x480 with 1 Axes>"
      ]
     },
     "metadata": {},
     "output_type": "display_data"
    }
   ],
   "source": [
    "plt.plot(train_losses, label = 'train_loss')\n",
    "plt.plot(validation_losses, label = 'val_loss')\n",
    "plt.legend()"
   ]
  },
  {
   "cell_type": "code",
   "execution_count": 11,
   "id": "272fdfd5",
   "metadata": {},
   "outputs": [
    {
     "data": {
      "text/plain": [
       "<Axes: >"
      ]
     },
     "execution_count": 11,
     "metadata": {},
     "output_type": "execute_result"
    },
    {
     "data": {
      "image/png": "[encoded data removed]",
      "text/plain": [
       "<Figure size 640x480 with 1 Axes>"
      ]
     },
     "metadata": {},
     "output_type": "display_data"
    }
   ],
   "source": [
    "sns.lineplot(y=validation_losses[10:], x=range(10, len(validation_losses)))"
   ]
  },
  {
   "cell_type": "markdown",
   "id": "84a760c06ef5136f",
   "metadata": {
    "collapsed": false
   },
   "source": [
    "# Определяем threshold по proliv и train"
   ]
  },
  {
   "cell_type": "code",
   "execution_count": 12,
   "id": "3a12248faf0fa017",
   "metadata": {
    "ExecuteTime": {
     "end_time": "2024-01-17T23:26:52.797711872Z",
     "start_time": "2024-01-17T23:26:52.784837402Z"
    },
    "collapsed": false
   },
   "outputs": [],
   "source": [
    "model = torch.load(\"best_model.pt\")\n",
    "\n",
    "def calculate_mse(images, model):\n",
    "    images_preds = model(images)\n",
    "    mse_loss = torch.nn.MSELoss()\n",
    "    losses = []\n",
    "    \n",
    "    for i in range(len(images)):\n",
    "        losses.append(mse_loss(images[i], images_preds[i]).item())\n",
    "    \n",
    "    return losses"
   ]
  },
  {
   "cell_type": "code",
   "execution_count": 13,
   "id": "44501f21f9c21f2e",
   "metadata": {
    "ExecuteTime": {
     "end_time": "2024-01-17T23:26:54.193877870Z",
     "start_time": "2024-01-17T23:26:53.709996276Z"
    },
    "collapsed": false
   },
   "outputs": [],
   "source": [
    "valid_losses = []\n",
    "\n",
    "for images in valid_loader:\n",
    "    current_losses = calculate_mse(images, model)\n",
    "    valid_losses.extend(current_losses)"
   ]
  },
  {
   "cell_type": "code",
   "execution_count": 14,
   "id": "46e67e95b90994d4",
   "metadata": {
    "ExecuteTime": {
     "end_time": "2024-01-17T23:26:54.539071843Z",
     "start_time": "2024-01-17T23:26:54.198108534Z"
    },
    "collapsed": false
   },
   "outputs": [
    {
     "data": {
      "text/plain": [
       "<Axes: ylabel='Count'>"
      ]
     },
     "execution_count": 14,
     "metadata": {},
     "output_type": "execute_result"
    },
    {
     "data": {
      "image/png": "[encoded data removed]",
      "text/plain": [
       "<Figure size 640x480 with 1 Axes>"
      ]
     },
     "metadata": {},
     "output_type": "display_data"
    }
   ],
   "source": [
    "sns.histplot(x=valid_losses)"
   ]
  },
  {
   "cell_type": "code",
   "execution_count": 15,
   "id": "71e16a47ffc32dbc",
   "metadata": {
    "ExecuteTime": {
     "end_time": "2024-01-17T23:26:55.233237277Z",
     "start_time": "2024-01-17T23:26:54.920902907Z"
    },
    "collapsed": false
   },
   "outputs": [
    {
     "data": {
      "text/plain": [
       "<Axes: ylabel='Count'>"
      ]
     },
     "execution_count": 15,
     "metadata": {},
     "output_type": "execute_result"
    },
    {
     "data": {
      "image/png": "[encoded data removed]",
      "text/plain": [
       "<Figure size 640x480 with 1 Axes>"
      ]
     },
     "metadata": {},
     "output_type": "display_data"
    }
   ],
   "source": [
    "proliv_losses = []\n",
    "\n",
    "for images in proliv_loader:\n",
    "    current_losses = calculate_mse(images, model)\n",
    "    proliv_losses.extend(current_losses)\n",
    "\n",
    "sns.histplot(x=proliv_losses)"
   ]
  },
  {
   "cell_type": "code",
   "execution_count": 16,
   "id": "9e1749e26fa08c1d",
   "metadata": {
    "ExecuteTime": {
     "end_time": "2024-01-17T23:26:55.592240251Z",
     "start_time": "2024-01-17T23:26:55.587541312Z"
    },
    "collapsed": false
   },
   "outputs": [],
   "source": [
    "threshold = 0.00016"
   ]
  },
  {
   "cell_type": "code",
   "execution_count": 17,
   "id": "e602edc6c1415b11",
   "metadata": {
    "ExecuteTime": {
     "end_time": "2024-01-17T23:26:56.098459499Z",
     "start_time": "2024-01-17T23:26:56.093935962Z"
    },
    "collapsed": false
   },
   "outputs": [
    {
     "name": "stdout",
     "output_type": "stream",
     "text": [
      "True positive rate: 1.0\n"
     ]
    }
   ],
   "source": [
    "print(f\"True positive rate: {np.count_nonzero(np.array(proliv_losses) > threshold) / len(proliv_losses)}\")"
   ]
  },
  {
   "cell_type": "code",
   "execution_count": 18,
   "id": "c052ca911bf54019",
   "metadata": {
    "ExecuteTime": {
     "end_time": "2024-01-17T23:26:56.577438530Z",
     "start_time": "2024-01-17T23:26:56.569213155Z"
    },
    "collapsed": false
   },
   "outputs": [
    {
     "name": "stdout",
     "output_type": "stream",
     "text": [
      "True negative rate: 0.976\n"
     ]
    }
   ],
   "source": [
    "print(f\"True negative rate: {np.count_nonzero(np.array(valid_losses) < threshold) / len(valid_losses)}\")"
   ]
  },
  {
   "cell_type": "markdown",
   "id": "9abfd0c321573090",
   "metadata": {
    "collapsed": false
   },
   "source": [
    "# Определяем TPR и TNR на тесте"
   ]
  },
  {
   "cell_type": "code",
   "execution_count": 19,
   "id": "c7cde9446500de40",
   "metadata": {
    "ExecuteTime": {
     "end_time": "2024-01-17T23:26:58.006590874Z",
     "start_time": "2024-01-17T23:26:57.961897923Z"
    },
    "collapsed": false
   },
   "outputs": [],
   "source": [
    "threshold = 0.00016"
   ]
  },
  {
   "cell_type": "code",
   "execution_count": 21,
   "id": "18c119d3f14e314",
   "metadata": {
    "ExecuteTime": {
     "end_time": "2024-01-17T23:26:58.486994848Z",
     "start_time": "2024-01-17T23:26:58.474726901Z"
    },
    "collapsed": false
   },
   "outputs": [],
   "source": [
    "test_data = TestDataset(\"dataset/test\", \"imgs\", \"test_annotation.txt\", transform[\"valid\"])\n",
    "test_loader = DataLoader(test_data, batch_size, shuffle=True)"
   ]
  },
  {
   "cell_type": "code",
   "execution_count": 22,
   "id": "b0c11c37eb00f606",
   "metadata": {
    "ExecuteTime": {
     "end_time": "2024-01-17T23:27:01.243837661Z",
     "start_time": "2024-01-17T23:26:58.889913811Z"
    },
    "collapsed": false
   },
   "outputs": [],
   "source": [
    "preds = []\n",
    "labels = []\n",
    "\n",
    "for batch_images, batch_labels in test_loader:\n",
    "    preds += calculate_mse(batch_images, model)\n",
    "    labels += batch_labels.tolist()\n",
    "\n",
    "preds = torch.tensor(preds)\n",
    "labels = torch.tensor(labels)\n",
    "preds = preds > threshold"
   ]
  },
  {
   "cell_type": "code",
   "execution_count": 23,
   "id": "2d26e697c95f515a",
   "metadata": {
    "ExecuteTime": {
     "end_time": "2024-01-17T23:27:01.248670298Z",
     "start_time": "2024-01-17T23:27:01.244323Z"
    },
    "collapsed": false
   },
   "outputs": [],
   "source": [
    "TP = torch.sum((preds == 1) & (labels == 1)).item()\n",
    "TN = torch.sum((preds == 0) & (labels == 0)).item()\n",
    "FP = torch.sum((preds == 1) & (labels == 0)).item()\n",
    "FN = torch.sum((preds == 0) & (labels == 1)).item()"
   ]
  },
  {
   "cell_type": "code",
   "execution_count": 24,
   "id": "d54446b9dc534019",
   "metadata": {
    "ExecuteTime": {
     "end_time": "2024-01-17T23:27:01.255465510Z",
     "start_time": "2024-01-17T23:27:01.249323497Z"
    },
    "collapsed": false
   },
   "outputs": [],
   "source": [
    "TPR = TP / (TP + FN) if (TP + FN) != 0 else 0.0\n",
    "\n",
    "# Calculate True Negative Rate (Specificity)\n",
    "TNR = TN / (TN + FP) if (TN + FP) != 0 else 0.0"
   ]
  }
 ],
 "metadata": {
  "kernelspec": {
   "display_name": "Python 3",
   "language": "python",
   "name": "python3"
  },
  "language_info": {
   "codemirror_mode": {
    "name": "ipython",
    "version": 3
   },
   "file_extension": ".py",
   "mimetype": "text/x-python",
   "name": "python",
   "nbconvert_exporter": "python",
   "pygments_lexer": "ipython3",
   "version": "3.11.4"
  }
 },
 "nbformat": 4,
 "nbformat_minor": 5
}
