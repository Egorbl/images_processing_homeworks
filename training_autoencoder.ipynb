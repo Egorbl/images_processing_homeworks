{
 "cells": [
  {
   "cell_type": "markdown",
   "id": "7ed74796084ebbb2",
   "metadata": {
    "collapsed": false
   },
   "source": [
    "# Importing libs"
   ]
  },
  {
   "cell_type": "code",
   "execution_count": 1,
   "id": "initial_id",
   "metadata": {
    "ExecuteTime": {
     "end_time": "2024-01-19T22:28:31.576056138Z",
     "start_time": "2024-01-19T22:28:29.227186894Z"
    },
    "collapsed": true
   },
   "outputs": [],
   "source": [
    "import torchvision\n",
    "import torch\n",
    "import torchvision.transforms as transforms\n",
    "import torch.nn as nn\n",
    "\n",
    "import matplotlib.pyplot as plt\n",
    "import numpy as np\n",
    "\n",
    "from dataset import get_cifar_train_loader, get_cifar_valid_loader"
   ]
  },
  {
   "cell_type": "code",
   "execution_count": 3,
   "id": "46882eb5e573caec",
   "metadata": {
    "ExecuteTime": {
     "end_time": "2024-01-19T22:28:31.590138076Z",
     "start_time": "2024-01-19T22:28:31.582881867Z"
    },
    "collapsed": false
   },
   "outputs": [
    {
     "data": {
      "text/plain": [
       "<torch._C.Generator at 0x7fd7e0936890>"
      ]
     },
     "execution_count": 3,
     "metadata": {},
     "output_type": "execute_result"
    }
   ],
   "source": [
    "device = torch.device('cuda:0' if torch.cuda.is_available() else 'cpu')\n",
    "torch.manual_seed(0)"
   ]
  },
  {
   "cell_type": "markdown",
   "id": "daf48ed6163947aa",
   "metadata": {
    "collapsed": false
   },
   "source": [
    "# Loading and normalizing data"
   ]
  },
  {
   "cell_type": "code",
   "execution_count": 4,
   "id": "41932c17613364c5",
   "metadata": {
    "ExecuteTime": {
     "end_time": "2024-01-19T22:28:32.958795566Z",
     "start_time": "2024-01-19T22:28:31.588894805Z"
    },
    "collapsed": false
   },
   "outputs": [
    {
     "name": "stdout",
     "output_type": "stream",
     "text": [
      "Files already downloaded and verified\n",
      "Files already downloaded and verified\n"
     ]
    }
   ],
   "source": [
    "batch_size = 32\n",
    "\n",
    "train_loader = get_cifar_train_loader(batch_size)\n",
    "valid_loader = get_cifar_valid_loader(batch_size)"
   ]
  },
  {
   "cell_type": "code",
   "execution_count": 5,
   "id": "2bc3d184bc13a562",
   "metadata": {
    "ExecuteTime": {
     "end_time": "2024-01-19T22:28:33.182948257Z",
     "start_time": "2024-01-19T22:28:32.960999406Z"
    },
    "collapsed": false
   },
   "outputs": [
    {
     "name": "stdout",
     "output_type": "stream",
     "text": [
      "----------------------------------------------------------------\n",
      "        Layer (type)               Output Shape         Param #\n",
      "================================================================\n",
      "            Conv2d-1            [-1, 8, 32, 32]             216\n",
      "       BatchNorm2d-2            [-1, 8, 32, 32]              16\n",
      "            Conv2d-3            [-1, 8, 32, 32]             576\n",
      "       BatchNorm2d-4            [-1, 8, 32, 32]              16\n",
      "            Conv2d-5            [-1, 8, 32, 32]             576\n",
      "       BatchNorm2d-6            [-1, 8, 32, 32]              16\n",
      "        BasicBlock-7            [-1, 8, 32, 32]               0\n",
      "            Conv2d-8            [-1, 8, 32, 32]             576\n",
      "       BatchNorm2d-9            [-1, 8, 32, 32]              16\n",
      "           Conv2d-10            [-1, 8, 32, 32]             576\n",
      "      BatchNorm2d-11            [-1, 8, 32, 32]              16\n",
      "       BasicBlock-12            [-1, 8, 32, 32]               0\n",
      "           Conv2d-13           [-1, 16, 16, 16]           1,152\n",
      "      BatchNorm2d-14           [-1, 16, 16, 16]              32\n",
      "           Conv2d-15           [-1, 16, 16, 16]           2,304\n",
      "      BatchNorm2d-16           [-1, 16, 16, 16]              32\n",
      "           Conv2d-17           [-1, 16, 16, 16]             128\n",
      "      BatchNorm2d-18           [-1, 16, 16, 16]              32\n",
      "       BasicBlock-19           [-1, 16, 16, 16]               0\n",
      "           Conv2d-20           [-1, 16, 16, 16]           2,304\n",
      "      BatchNorm2d-21           [-1, 16, 16, 16]              32\n",
      "           Conv2d-22           [-1, 16, 16, 16]           2,304\n",
      "      BatchNorm2d-23           [-1, 16, 16, 16]              32\n",
      "       BasicBlock-24           [-1, 16, 16, 16]               0\n",
      "           Conv2d-25             [-1, 32, 8, 8]           4,608\n",
      "      BatchNorm2d-26             [-1, 32, 8, 8]              64\n",
      "           Conv2d-27             [-1, 32, 8, 8]           9,216\n",
      "      BatchNorm2d-28             [-1, 32, 8, 8]              64\n",
      "           Conv2d-29             [-1, 32, 8, 8]             512\n",
      "      BatchNorm2d-30             [-1, 32, 8, 8]              64\n",
      "       BasicBlock-31             [-1, 32, 8, 8]               0\n",
      "           Conv2d-32             [-1, 32, 8, 8]           9,216\n",
      "      BatchNorm2d-33             [-1, 32, 8, 8]              64\n",
      "           Conv2d-34             [-1, 32, 8, 8]           9,216\n",
      "      BatchNorm2d-35             [-1, 32, 8, 8]              64\n",
      "       BasicBlock-36             [-1, 32, 8, 8]               0\n",
      "           Conv2d-37             [-1, 64, 4, 4]          18,432\n",
      "      BatchNorm2d-38             [-1, 64, 4, 4]             128\n",
      "           Conv2d-39             [-1, 64, 4, 4]          36,864\n",
      "      BatchNorm2d-40             [-1, 64, 4, 4]             128\n",
      "           Conv2d-41             [-1, 64, 4, 4]           2,048\n",
      "      BatchNorm2d-42             [-1, 64, 4, 4]             128\n",
      "       BasicBlock-43             [-1, 64, 4, 4]               0\n",
      "           Conv2d-44             [-1, 64, 4, 4]          36,864\n",
      "      BatchNorm2d-45             [-1, 64, 4, 4]             128\n",
      "           Conv2d-46             [-1, 64, 4, 4]          36,864\n",
      "      BatchNorm2d-47             [-1, 64, 4, 4]             128\n",
      "       BasicBlock-48             [-1, 64, 4, 4]               0\n",
      "          Encoder-49             [-1, 64, 4, 4]               0\n",
      "  ConvTranspose2d-50             [-1, 32, 8, 8]          18,464\n",
      "  ConvTranspose2d-51           [-1, 16, 16, 16]           4,624\n",
      "  ConvTranspose2d-52            [-1, 3, 32, 32]             435\n",
      "          Decoder-53            [-1, 3, 32, 32]               0\n",
      "================================================================\n",
      "Total params: 199,275\n",
      "Trainable params: 199,275\n",
      "Non-trainable params: 0\n",
      "----------------------------------------------------------------\n",
      "Input size (MB): 0.01\n",
      "Forward/backward pass size (MB): 1.51\n",
      "Params size (MB): 0.76\n",
      "Estimated Total Size (MB): 2.28\n",
      "----------------------------------------------------------------\n"
     ]
    }
   ],
   "source": [
    "from resnet import Encoder, BasicBlock, Decoder, Autoencoder, ResNet18\n",
    "from torchsummary import summary\n",
    "\n",
    "encoder = Encoder(BasicBlock).to(device)\n",
    "decoder = Decoder().to(device)\n",
    "autoencoder = Autoencoder(encoder, decoder)\n",
    "summary(autoencoder, (3, 32, 32))"
   ]
  },
  {
   "cell_type": "code",
   "execution_count": 6,
   "id": "d6d4b8ab94a460a",
   "metadata": {
    "ExecuteTime": {
     "end_time": "2024-01-19T22:28:50.278792388Z",
     "start_time": "2024-01-19T22:28:50.275097097Z"
    },
    "collapsed": false
   },
   "outputs": [],
   "source": [
    "optimizer = torch.optim.AdamW(autoencoder.parameters(), lr=0.0005)\n",
    "loss_fcn = nn.MSELoss()"
   ]
  },
  {
   "cell_type": "code",
   "execution_count": 7,
   "id": "bca8d78906ef4afe",
   "metadata": {
    "ExecuteTime": {
     "end_time": "2024-01-19T22:31:12.456572106Z",
     "start_time": "2024-01-19T22:28:50.646446025Z"
    },
    "collapsed": false
   },
   "outputs": [
    {
     "name": "stdout",
     "output_type": "stream",
     "text": [
      "Epoch 0\n",
      "New best\n",
      "0.14421267309984842\n",
      "Epoch 1\n",
      "New best\n",
      "0.11105748596854104\n",
      "Epoch 2\n",
      "New best\n",
      "0.10756424117012146\n",
      "Epoch 3\n",
      "New best\n",
      "0.10154310959025313\n",
      "Epoch 4\n",
      "New best\n",
      "0.0867299347068555\n",
      "Epoch 5\n",
      "New best\n",
      "0.0700124340435377\n",
      "Epoch 6\n",
      "New best\n",
      "0.06508293158758563\n",
      "Epoch 7\n",
      "New best\n",
      "0.06010762358102174\n",
      "Epoch 8\n",
      "New best\n",
      "0.05241167631012182\n",
      "Epoch 9\n",
      "New best\n",
      "0.05003295265161953\n",
      "Epoch 10\n",
      "New best\n",
      "0.04807794873659222\n",
      "Epoch 11\n",
      "New best\n",
      "0.04231953758377427\n",
      "Epoch 12\n",
      "New best\n",
      "0.038985386187323744\n",
      "Epoch 13\n",
      "New best\n",
      "0.03868734574736878\n",
      "Epoch 14\n",
      "0.03886485939470533\n",
      "Epoch 15\n",
      "New best\n",
      "0.03583909988927003\n",
      "Epoch 16\n",
      "0.03736096219466136\n",
      "Epoch 17\n",
      "New best\n",
      "0.033316664046610885\n",
      "Epoch 18\n",
      "0.03445320984068961\n",
      "Epoch 19\n",
      "0.033439090695624916\n"
     ]
    }
   ],
   "source": [
    "num_epochs = 20\n",
    "min_valid_loss = float(\"+Inf\")\n",
    "\n",
    "for epoch_ind in range(num_epochs):\n",
    "    print(f\"Epoch {epoch_ind}\")\n",
    "    \n",
    "    autoencoder.train()\n",
    "    for images, _ in train_loader:\n",
    "        images = images.to(device)\n",
    "        outputs = autoencoder(images)\n",
    "        loss = loss_fcn(outputs, images)\n",
    "        optimizer.zero_grad()\n",
    "        loss.backward()\n",
    "        optimizer.step()\n",
    "    \n",
    "    autoencoder.eval()\n",
    "    valid_loss = 0\n",
    "    \n",
    "    for images, _ in valid_loader:\n",
    "        images = images.to(device)\n",
    "        outputs = autoencoder(images)\n",
    "        loss = loss_fcn(outputs, images)\n",
    "        valid_loss += loss.item()\n",
    "    \n",
    "    valid_loss = valid_loss / len(valid_loader)\n",
    "    \n",
    "    if valid_loss < min_valid_loss:\n",
    "        min_valid_loss = valid_loss\n",
    "        torch.save(encoder, \"best_encoder.pt\")\n",
    "        print(\"New best\")\n",
    "    \n",
    "    print(valid_loss)\n",
    "        "
   ]
  },
  {
   "cell_type": "code",
   "execution_count": 8,
   "id": "f0fc220b0f9e8f14",
   "metadata": {
    "ExecuteTime": {
     "end_time": "2024-01-19T22:31:22.282171691Z",
     "start_time": "2024-01-19T22:31:21.991347545Z"
    },
    "collapsed": false
   },
   "outputs": [
    {
     "data": {
      "text/plain": [
       "<matplotlib.image.AxesImage at 0x7fd71b032e10>"
      ]
     },
     "execution_count": 8,
     "metadata": {},
     "output_type": "execute_result"
    },
    {
     "data": {
      "image/png": "[encoded data removed]",
      "text/plain": [
       "<Figure size 640x480 with 1 Axes>"
      ]
     },
     "metadata": {},
     "output_type": "display_data"
    }
   ],
   "source": [
    "img = next(iter(valid_loader))[0][1:2].to(device)\n",
    "pred_img = autoencoder(img)\n",
    "\n",
    "plt.imshow(np.transpose(img[0].cpu() / 5 + 0.5, (1, 2, 0)))"
   ]
  },
  {
   "cell_type": "code",
   "execution_count": 9,
   "id": "b4bb606c49a000c8",
   "metadata": {
    "ExecuteTime": {
     "end_time": "2024-01-19T22:31:24.746123861Z",
     "start_time": "2024-01-19T22:31:24.511571094Z"
    },
    "collapsed": false
   },
   "outputs": [
    {
     "data": {
      "text/plain": [
       "<matplotlib.image.AxesImage at 0x7fd7144bd510>"
      ]
     },
     "execution_count": 9,
     "metadata": {},
     "output_type": "execute_result"
    },
    {
     "data": {
      "image/png": "[encoded data removed]",
      "text/plain": [
       "<Figure size 640x480 with 1 Axes>"
      ]
     },
     "metadata": {},
     "output_type": "display_data"
    }
   ],
   "source": [
    "plt.imshow(np.transpose(pred_img[0].cpu().detach() / 5 + 0.5, (1, 2, 0)))"
   ]
  },
  {
   "cell_type": "code",
   "execution_count": null,
   "id": "3306b35ddf07aa54",
   "metadata": {
    "collapsed": false
   },
   "outputs": [],
   "source": []
  }
 ],
 "metadata": {
  "kernelspec": {
   "display_name": "Python 3",
   "language": "python",
   "name": "python3"
  },
  "language_info": {
   "codemirror_mode": {
    "name": "ipython",
    "version": 3
   },
   "file_extension": ".py",
   "mimetype": "text/x-python",
   "name": "python",
   "nbconvert_exporter": "python",
   "pygments_lexer": "ipython3",
   "version": "3.11.4"
  }
 },
 "nbformat": 4,
 "nbformat_minor": 5
}
